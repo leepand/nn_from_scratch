{
 "cells": [
  {
   "cell_type": "code",
   "execution_count": 5,
   "id": "aa78932d-a8b1-485b-af76-f12756a97d0e",
   "metadata": {},
   "outputs": [
    {
     "name": "stdout",
     "output_type": "stream",
     "text": [
      "EPOCH: 0, ACCURACY: 0.3333333333333333, LOSS: 8.40744717002989\n",
      "EPOCH: 20, ACCURACY: 0.4, LOSS: 0.9215854842299204\n",
      "EPOCH: 40, ACCURACY: 0.43333333333333335, LOSS: 0.7536116948198671\n",
      "EPOCH: 60, ACCURACY: 0.42, LOSS: 0.6714779014672261\n",
      "EPOCH: 80, ACCURACY: 0.41333333333333333, LOSS: 0.6594143979448673\n",
      "EPOCH: 100, ACCURACY: 0.6666666666666666, LOSS: 0.5259943503852046\n",
      "EPOCH: 120, ACCURACY: 0.6666666666666666, LOSS: 0.4706373583820736\n",
      "EPOCH: 140, ACCURACY: 0.6666666666666666, LOSS: 0.505320356073326\n",
      "EPOCH: 160, ACCURACY: 0.48, LOSS: 1.0150613941350852\n",
      "EPOCH: 180, ACCURACY: 0.8333333333333334, LOSS: 0.4606585529758586\n",
      "EPOCH: 200, ACCURACY: 0.96, LOSS: 0.14245395648443093\n",
      "EPOCH: 220, ACCURACY: 0.9733333333333334, LOSS: 0.1114092400463339\n",
      "EPOCH: 240, ACCURACY: 0.98, LOSS: 0.09284358413813788\n",
      "EPOCH: 260, ACCURACY: 0.98, LOSS: 0.08381489750531389\n",
      "EPOCH: 280, ACCURACY: 0.98, LOSS: 0.08094377825736063\n"
     ]
    }
   ],
   "source": [
    "from numpydl.model import Network,DenseLayer\n",
    "import numpy as np\n",
    "from sklearn.preprocessing import LabelEncoder\n",
    "import sklearn\n",
    "import pandas as pd\n",
    "\n",
    "def get_data(path):\n",
    "        data = pd.read_csv(path, index_col=0)\n",
    "\n",
    "        cols = list(data.columns)\n",
    "        target = cols.pop()\n",
    "\n",
    "        X = data[cols].copy()\n",
    "        y = data[target].copy()\n",
    "\n",
    "        y = LabelEncoder().fit_transform(y)\n",
    "\n",
    "        return np.array(X), np.array(y)\n",
    "\n",
    "X, y = get_data(r\"./iris.csv\")\n",
    "\n",
    "model = Network()\n",
    "model.add(DenseLayer(6))\n",
    "model.add(DenseLayer(8))\n",
    "model.add(DenseLayer(10))\n",
    "model.add(DenseLayer(3))\n",
    "\n",
    "model.train(X_train=X, y_train=y, epochs=300)\n",
    "\n",
    "\n"
   ]
  },
  {
   "cell_type": "code",
   "execution_count": 6,
   "id": "15711482-ec2a-4395-adf1-1692ad96dcc4",
   "metadata": {},
   "outputs": [
    {
     "name": "stdout",
     "output_type": "stream",
     "text": [
      "[{'input_dim': 4, 'output_dim': 6, 'activation': 'relu'}, {'input_dim': 6, 'output_dim': 8, 'activation': 'relu'}, {'input_dim': 8, 'output_dim': 10, 'activation': 'relu'}, {'input_dim': 10, 'output_dim': 3, 'activation': 'softmax'}]\n"
     ]
    }
   ],
   "source": [
    "print(model.architecture)\n"
   ]
  },
  {
   "cell_type": "code",
   "execution_count": null,
   "id": "c07ad694-49d9-4fac-81d2-d7f935776fef",
   "metadata": {},
   "outputs": [],
   "source": []
  }
 ],
 "metadata": {
  "kernelspec": {
   "display_name": "Python 3 (ipykernel)",
   "language": "python",
   "name": "python3"
  },
  "language_info": {
   "codemirror_mode": {
    "name": "ipython",
    "version": 3
   },
   "file_extension": ".py",
   "mimetype": "text/x-python",
   "name": "python",
   "nbconvert_exporter": "python",
   "pygments_lexer": "ipython3",
   "version": "3.8.15"
  },
  "vscode": {
   "interpreter": {
    "hash": "f06f4baf162c1bba868b3ed890ca059fd0c13f705dc9d48413e36c65b86dd60d"
   }
  }
 },
 "nbformat": 4,
 "nbformat_minor": 5
}
